{
  "nbformat": 4,
  "nbformat_minor": 0,
  "metadata": {
    "colab": {
      "provenance": [],
      "collapsed_sections": [
        "Lpq3Du7eL2dl"
      ]
    },
    "kernelspec": {
      "name": "python3",
      "display_name": "Python 3"
    },
    "language_info": {
      "name": "python"
    }
  },
  "cells": [
    {
      "cell_type": "markdown",
      "source": [
        "# Unidade 01: introdução ao Google Colab, à lógica de programação e ao Python\n",
        "\n",
        "**Objetivos de aprendizagem**:\n",
        "1. Conhecer o ambiente Google Colab\n",
        "2. Compreender conceitos básicos de lógica de programação\n",
        "3. Aprender fundamentos da linguagem Python"
      ],
      "metadata": {
        "id": "7Pcz_5__4RCD"
      }
    },
    {
      "cell_type": "markdown",
      "source": [
        "## Introdução ao Google Colab\n",
        "\n",
        "Bem-vindo ao Google Colab. Este é o ambiente que será utilizado durante as nossas aulas. O objetivo desta breve introdução é situar os alunos que ainda não conhecem a plataforma.\n",
        "\n"
      ],
      "metadata": {
        "id": "heip2ons4b1b"
      }
    },
    {
      "cell_type": "markdown",
      "source": [
        "### O que é o Google Colab?\n",
        "\n",
        "O Google Colab é uma ferramenta que permite escrever e executar código Python, direto no navegador e de maneira mais simples, porém com acesso a recursos poderosos. Trata-se de uma ferramenta muito utilizada para estudo e que permite o compartilhamento de notebooks e a execução destes sem instalar ferramentas adicionais máquina."
      ],
      "metadata": {
        "id": "dIpAr5_JMiJZ"
      }
    },
    {
      "cell_type": "markdown",
      "source": [
        "### Como usar o Google Colab?\n",
        "\n",
        "Dentro do Google Colab, é possível criar e acessar um **notebook**, que é um ambiente interativo que mescla, através de blocos, textos e códigos. Por exemplo, esta aula está escrita em um notebook.\n",
        "\n",
        "Dentro dos notebooks, existem células de texto e de código. Por exemplo, esta célula é de texto, enquanto que a próxima, abaixo, é de código na linguagem Python. Para executar uma célula de código, clique na célula e depois pressione o botão Play à esquerda do código ou use o atalho do teclado \"Command/Ctrl+Enter\"."
      ],
      "metadata": {
        "id": "HU4cnVT7NEVa"
      }
    },
    {
      "cell_type": "code",
      "source": [
        "print(\"Olá, mundo!\")\n",
        "print(\"Bem-vindo ao curso de educação em dados de energia\")"
      ],
      "metadata": {
        "id": "z0QLe5Ai_uzh"
      },
      "execution_count": null,
      "outputs": []
    },
    {
      "cell_type": "markdown",
      "source": [
        "Para editar texto ou código (que será muito útil, em breve), basta clicar duas vezes seguidas na célula e começar a editar. Já para sair do modo de edição, basta clicar duas vezes seguidas, novamente, sobre o bloco, ou apetar a tecla \"Esc\".\n",
        "\n",
        "Agora é com você: altere o código da célula acima e substitua o texto \"Olá, mundo!\", pelo seu nome e idade. Em seguida, execute novamente o código.\n",
        "\n",
        "Também é importante notar que, embora divididos por blocos, as variáveis definidas em uma célula podem ser usadas nas células seguintes, porque a execução dos blocos segue uma ordem linear, do topo para baixo.\n",
        "\n",
        "Dessa forma, a grande vantagem do Google Colab é permitir combinar código executável e rich text em um único documento, além de permitir integração com outros serviços, como o Google Drive e o GitHub.\n",
        "\n",
        "### Mais sobre o Google Colab\n",
        "\n",
        "Para conhecer mais sobre a ferramenta, acesse o notebook de introdução do próprio Colab:\n",
        "\n",
        "[Conheça o Colab](https://colab.research.google.com/)\n",
        "\n",
        "Também existe muito material disponível para pesquisar e aprender a respeito."
      ],
      "metadata": {
        "id": "fcSxEjuxAVy8"
      }
    },
    {
      "cell_type": "markdown",
      "source": [
        "## Introdução à lógica de programação\n",
        "\n",
        "O objetivo desta seção é apresentar alguns conceitos básicos sobre lógica de programação, de modo a permitir um bom aproveitamento do curso e, também, propiciar maior autonomia para que os alunos aprendam por conta própria."
      ],
      "metadata": {
        "id": "Zto2qiVI78oG"
      }
    },
    {
      "cell_type": "markdown",
      "source": [
        "### O que são algoritmos?\n",
        "\n",
        "De maneira simplificada, algoritmos são conjuntos de instruções finitas que podem ser seguidas para resolver problemas. No contexto da computação, algoritmos são escritos para serem processados por computadores.\n",
        "\n",
        "Por exemplo, fora do contexto da computação, uma receita de bolo pode ser considerada um algoritmo, pois possui um conjunto finito de instruções que, se seguidas, resolve um determinado problema: fazer um bolo.\n",
        "\n",
        "Já um programa de computador que calcula uma soma de dois números inteiros, como o do exemplo abaixo, também é considerado um algoritmo. Por mais simples que o programa seja, ele é um conjunto de instruções finitas que a máquina vai interpretar para resolver um problema. Portanto, um algoritmo."
      ],
      "metadata": {
        "id": "SQgXcX8jDIdR"
      }
    },
    {
      "cell_type": "code",
      "source": [
        "# Programa que soma dois números inteiros\n",
        "num_1 = 2\n",
        "num_2 = 10\n",
        "soma = num_1 + num_2\n",
        "print(f\"O resultado da soma foi {soma}\")"
      ],
      "metadata": {
        "id": "ohvj3KCEBaFA"
      },
      "execution_count": null,
      "outputs": []
    },
    {
      "cell_type": "markdown",
      "source": [
        "Agora é com você: troque a operação de soma por outras operações e, a cada alteração, execute novamente o código."
      ],
      "metadata": {
        "id": "qPsmZItKfGhD"
      }
    },
    {
      "cell_type": "markdown",
      "source": [
        "No geral, são etapas importantes para criar algoritmos eficientes:\n",
        "1. Compreender o problema;\n",
        "2. Dividir o problema em partes menores;\n",
        "3. Definir as etapas e o fluxo;\n",
        "4. Revisar e otimizar o algoritmo."
      ],
      "metadata": {
        "id": "GTis_vdoVC1o"
      }
    },
    {
      "cell_type": "markdown",
      "source": [
        "### O que são linguagens de programação?\n",
        "\n",
        "As linguagens de programação são sistemas de comunicação estruturados que permitem a interação intermediada entre linguagem humana e linguagem de máquina, através de sintaxe e semântica definidas.\n",
        "\n",
        "Existem inúmeras linguagens de programação, pois cada uma foi construída para um propósito específico. Por exemplo, a linguagem de programação Python, que está sendo utilizada neste curso, foi escolhida como uma ferramenta mais adequado ao propósito do curso. Portanto, é ela que veremos adiante."
      ],
      "metadata": {
        "id": "eFosJyIQTWns"
      }
    },
    {
      "cell_type": "markdown",
      "source": [
        "## Introdução ao Python\n",
        "\n",
        "[...] Falar um pouco sobre as características da linguagem python e seu uso na ciência e na análise de dados."
      ],
      "metadata": {
        "id": "YAYcWxaR8_4d"
      }
    },
    {
      "cell_type": "markdown",
      "source": [
        "### Conceito de variáveis e tipos de dados\n",
        "\n",
        "Em programação, variáveis são elementos que armazenam dados temporariamente na memória de um computador, para que estes sejam usados durante a execução do programa. As variáveis são compostas por nome (identificador), valor e tipo do dado.\n",
        "\n",
        "Para este curso, usaremos quatro tipos de variáveis:\n",
        "- int, para números inteiros. Por exemplo: 42, 7, 1200;\n",
        "- float, para números decimais. Por exemplo: 3.14, 0.1, 2.0;\n",
        "- str, para texto. Por exemplo: \"Python\", \"O rato\", \"a\";\n",
        "- bool, para valores lógicos. Por exemplo: True, False.\n",
        "\n",
        "Veja o exemplo abaixo, com declaração de variáveis em Python com esses tipos."
      ],
      "metadata": {
        "id": "kBPPGzq4DDOA"
      }
    },
    {
      "cell_type": "code",
      "source": [
        "# Declarando variáveis\n",
        "nome = \"Maria\"    # str\n",
        "idade = 25        # int\n",
        "altura = 1.68     # float\n",
        "estudante = True  # bool\n",
        "\n",
        "# Imprimindo os tipos das variáveis\n",
        "print(f\"Tipo de nome: {type(nome)}\")\n",
        "print(f\"Tipo de idade: {type(idade)}\")\n",
        "print(f\"Tipo de altura: {type(altura)}\")\n",
        "print(f\"Tipo de estudante: {type(estudante)}\")\n",
        "\n",
        "# Declare aqui suas variáveis\n"
      ],
      "metadata": {
        "id": "Km0t7St5fXVl"
      },
      "execution_count": null,
      "outputs": []
    },
    {
      "cell_type": "markdown",
      "source": [
        "### Operadores aritméticos, lógicos e de comparação\n",
        "\n",
        "Em programação, operadores são símbolos ou palavras-chave que realizam operações específicas em um ou mais operandos (valores ou variáveis). A utilização de operadores é essencial para manipular dados, realizar cálculos, comparar valores e controlar a lógica de um algoritmo.\n",
        "\n",
        "Os operadores podem ser:\n",
        "- Aritméticos: +, -, \\*, /, //, % e **;\n",
        "- Comparação: ==, !=, >, <, >= e <=;\n",
        "- Lógicos: and, or e not\n",
        "\n",
        "Veja exemplos abaixo:"
      ],
      "metadata": {
        "id": "9y3omNz6Ltvl"
      }
    },
    {
      "cell_type": "code",
      "source": [
        "# Declarando as variáveis\n",
        "a = 10\n",
        "b = 3\n",
        "\n",
        "# Trabalhando com operadores aritméticos\n",
        "print(\"\\nSoma: \", a + b)\n",
        "print(\"Subtração: \", a - b)\n",
        "print(\"Divisão: \", a / b)\n",
        "print(\"Divisão inteira: \", a // b)\n",
        "print(\"Resto: \", a % b)\n",
        "print(\"Potência: \", a**b)\n",
        "\n",
        "# Trabalhando com operadores de comparação\n",
        "print(\"\\nIgual: \", a == b)\n",
        "print(\"Diferente: \", a != b)\n",
        "print(\"Maior que: \", a > b)\n",
        "print(\"Menor que: \", a < b)\n",
        "print(\"Maior ou igual que: \", a >= b)\n",
        "print(\"Menor ou igual que: \", a <= b)\n",
        "\n",
        "# Trabalhando com operadores lógicos\n",
        "print(\"\\nConjunção: \", a and b)\n",
        "print(\"Disjunção: \", a or b)\n",
        "print(\"Negação: \", not a)"
      ],
      "metadata": {
        "colab": {
          "base_uri": "https://localhost:8080/"
        },
        "id": "If5njoRHJ-bm",
        "outputId": "e5418a77-7ae0-41b3-d94e-ba7f22208d10"
      },
      "execution_count": 3,
      "outputs": [
        {
          "output_type": "stream",
          "name": "stdout",
          "text": [
            "\n",
            "Soma:  13\n",
            "Subtração:  7\n",
            "Divisão:  3.3333333333333335\n",
            "Divisão inteira:  3\n",
            "Resto:  1\n",
            "Potência:  1000\n",
            "\n",
            "Igual:  False\n",
            "Diferente:  True\n",
            "Maior que:  True\n",
            "Menor que:  False\n",
            "Maior ou igual que:  True\n",
            "Menor ou igual que:  False\n",
            "\n",
            "Conjunção:  3\n",
            "Disjunção:  10\n",
            "Negação:  False\n"
          ]
        }
      ]
    },
    {
      "cell_type": "markdown",
      "source": [
        "### Estruturas de controle (if, elif, else, for e while)"
      ],
      "metadata": {
        "id": "AoDNmPeCLvrQ"
      }
    },
    {
      "cell_type": "markdown",
      "source": [
        "### Estruturas de dados essenciais (listas, tuplas, dicionários e conjuntos)"
      ],
      "metadata": {
        "id": "vAgyO1stL0fK"
      }
    },
    {
      "cell_type": "markdown",
      "source": [
        "### Funções e modularização de código"
      ],
      "metadata": {
        "id": "Lpq3Du7eL2dl"
      }
    },
    {
      "cell_type": "markdown",
      "source": [
        "### Gráficos com Matplotlib e Seaborn"
      ],
      "metadata": {
        "id": "uLQboseIL5Jg"
      }
    }
  ]
}