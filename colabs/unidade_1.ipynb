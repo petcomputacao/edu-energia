{
  "nbformat": 4,
  "nbformat_minor": 0,
  "metadata": {
    "colab": {
      "provenance": []
    },
    "kernelspec": {
      "name": "python3",
      "display_name": "Python 3"
    },
    "language_info": {
      "name": "python"
    }
  },
  "cells": [
    {
      "cell_type": "markdown",
      "source": [
        "# Unidade 1: introdução ao Google Colab, à lógica de programação e ao Python\n",
        "\n",
        "**Objetivos de aprendizagem**:\n",
        "1. Conhecer o ambiente Google Colab\n",
        "2. Compreender conceitos básicos de lógica de programação\n",
        "3. Aprender fundamentos da linguagem Python"
      ],
      "metadata": {
        "id": "K-7mMi2Uhpn9"
      }
    },
    {
      "cell_type": "markdown",
      "source": [
        "## Introdução ao Google Colab\n",
        "\n",
        "Bem-vindo ao Google Colab. Este é o ambiente que será utilizado durante as nossas aulas. O objetivo desta breve introdução é situar os alunos que ainda não conhecem a plataforma."
      ],
      "metadata": {
        "id": "gwWIkUO2h0Kl"
      }
    },
    {
      "cell_type": "markdown",
      "source": [
        "### O que é o Google Colab?\n",
        "\n",
        "O Google Colab é uma ferramenta que permite escrever e executar código Python, direto no navegador e de maneira mais simples, porém com acesso a recursos poderosos. Trata-se de uma ferramenta muito utilizada para estudo e que permite o compartilhamento de notebooks e a execução destes sem instalar ferramentas adicionais máquina."
      ],
      "metadata": {
        "id": "JVuZJe72h1Wd"
      }
    },
    {
      "cell_type": "markdown",
      "source": [
        "### Como usar o Google Colab?\n",
        "\n",
        "Dentro do Google Colab, é possível criar e acessar um **notebook**, que é um ambiente interativo que mescla, através de blocos, textos e códigos. Por exemplo, esta aula está escrita em um notebook.\n",
        "\n",
        "Dentro dos notebooks, existem células de texto e de código. Por exemplo, esta célula é de texto, enquanto que a próxima, abaixo, é de código na linguagem Python. Para executar uma célula de código, clique na célula e depois pressione o botão Play à esquerda do código ou use o atalho do teclado \"Command/Ctrl+Enter\"."
      ],
      "metadata": {
        "id": "-H-zMQnch4TV"
      }
    },
    {
      "cell_type": "code",
      "source": [
        "print(\"Olá, mundo!\")\n",
        "print(\"Bem-vindo ao curso de educação em dados de energia\")"
      ],
      "metadata": {
        "id": "4wqZuedsh9q_"
      },
      "execution_count": null,
      "outputs": []
    },
    {
      "cell_type": "markdown",
      "source": [
        "Para editar texto ou código (que será muito útil, em breve), basta clicar duas vezes seguidas na célula e começar a editar. Já para sair do modo de edição, basta clicar duas vezes seguidas, novamente, sobre o bloco, ou apetar a tecla \"Esc\".\n",
        "\n",
        "Agora é com você: altere o código da célula acima e substitua o texto \"Olá, mundo!\", pelo seu nome e idade. Em seguida, execute novamente o código.\n",
        "\n",
        "Também é importante notar que, embora divididos por blocos, as variáveis definidas em uma célula podem ser usadas nas células seguintes, porque a execução dos blocos segue uma ordem linear, do topo para baixo.\n",
        "\n",
        "Dessa forma, a grande vantagem do Google Colab é permitir combinar código executável e rich text em um único documento, além de permitir integração com outros serviços, como o Google Drive e o GitHub.\n",
        "\n",
        "### Mais sobre o Google Colab\n",
        "\n",
        "Para conhecer mais sobre a ferramenta, acesse o notebook de introdução do próprio Colab:\n",
        "\n",
        "[Conheça o Colab](https://colab.research.google.com/)\n",
        "\n",
        "Também existe muito material disponível para pesquisar e aprender a respeito."
      ],
      "metadata": {
        "id": "5Blnx4Myh66A"
      }
    },
    {
      "cell_type": "markdown",
      "source": [
        "## Introdução à lógica de programação\n",
        "\n",
        "O objetivo desta seção é apresentar alguns conceitos básicos sobre lógica de programação, de modo a permitir um bom aproveitamento do curso e, também, propiciar maior autonomia para que os alunos aprendam por conta própria."
      ],
      "metadata": {
        "id": "VKI2a2t-iCLD"
      }
    },
    {
      "cell_type": "markdown",
      "source": [
        "### O que são algoritmos?\n",
        "\n",
        "De maneira simplificada, algoritmos são conjuntos de instruções finitas que podem ser seguidas para resolver problemas. No contexto da computação, algoritmos são escritos para serem processados por computadores.\n",
        "\n",
        "Por exemplo, fora do contexto da computação, uma receita de bolo pode ser considerada um algoritmo, pois possui um conjunto finito de instruções que, se seguidas, resolve um determinado problema: fazer um bolo.\n",
        "\n",
        "Já um programa de computador que calcula uma soma de dois números inteiros, como o do exemplo abaixo, também é considerado um algoritmo. Por mais simples que o programa seja, ele é um conjunto de instruções finitas que a máquina vai interpretar para resolver um problema. Portanto, um algoritmo."
      ],
      "metadata": {
        "id": "RVz928P6iFHP"
      }
    },
    {
      "cell_type": "code",
      "source": [
        "# Programa que soma dois números inteiros\n",
        "num_1 = 2\n",
        "num_2 = 10\n",
        "soma = num_1 + num_2\n",
        "print(f\"O resultado da soma foi {soma}\")"
      ],
      "metadata": {
        "id": "p6NpQUPEiLFy"
      },
      "execution_count": null,
      "outputs": []
    },
    {
      "cell_type": "markdown",
      "source": [
        "Agora é com você: troque a operação de soma por outras operações e, a cada alteração, execute novamente o código."
      ],
      "metadata": {
        "id": "9rdMsWifiHyA"
      }
    },
    {
      "cell_type": "markdown",
      "source": [
        "No geral, são etapas importantes para criar algoritmos eficientes:\n",
        "1. Compreender o problema;\n",
        "2. Dividir o problema em partes menores;\n",
        "3. Definir as etapas e o fluxo;\n",
        "4. Revisar e otimizar o algoritmo."
      ],
      "metadata": {
        "id": "epGzQS1ziQe-"
      }
    },
    {
      "cell_type": "markdown",
      "source": [
        "### O que são linguagens de programação?\n",
        "\n",
        "As linguagens de programação são sistemas de comunicação estruturados que permitem a interação intermediada entre linguagem humana e linguagem de máquina, através de sintaxe e semântica definidas.\n",
        "\n",
        "Existem inúmeras linguagens de programação, pois cada uma foi construída para um propósito específico. Por exemplo, a linguagem de programação Python, que está sendo utilizada neste curso, foi escolhida como uma ferramenta mais adequado ao propósito do curso. Portanto, é ela que veremos adiante."
      ],
      "metadata": {
        "id": "imelHH87iXmg"
      }
    },
    {
      "cell_type": "markdown",
      "source": [
        "## Introdução ao Python\n",
        "\n",
        "Por se tratar de uma linguagem de alto nível (portanto, mais próxima da linguagem humana) e bastante comum de ser aplicada nas mais diversas ciências (inclusive na estatística), iremos utilizar a linguagem de programação Python neste curso."
      ],
      "metadata": {
        "id": "knH17ZDAic-f"
      }
    },
    {
      "cell_type": "markdown",
      "source": [
        "### Conceito de variáveis e tipos de dados\n",
        "\n",
        "Em programação, variáveis são elementos que armazenam dados temporariamente na memória de um computador, para que estes sejam usados durante a execução do programa. As variáveis são compostas por nome (identificador), valor e tipo do dado.\n",
        "\n",
        "Para este curso, usaremos quatro tipos de variáveis:\n",
        "- int, para números inteiros. Por exemplo: 42, 7, 1200;\n",
        "- float, para números decimais. Por exemplo: 3.14, 0.1, 2.0;\n",
        "- str, para texto. Por exemplo: \"Python\", \"O rato\", \"a\";\n",
        "- bool, para valores lógicos. Por exemplo: True, False.\n",
        "\n",
        "Veja o exemplo abaixo, com declaração de variáveis em Python com esses tipos."
      ],
      "metadata": {
        "id": "m1dCGw-jiu0M"
      }
    },
    {
      "cell_type": "code",
      "source": [
        "# Declarando variáveis\n",
        "nome = \"Maria\"    # str\n",
        "idade = 25        # int\n",
        "altura = 1.68     # float\n",
        "estudante = True  # bool\n",
        "\n",
        "# Imprimindo os tipos das variáveis\n",
        "print(f\"Tipo de nome: {type(nome)}\")\n",
        "print(f\"Tipo de idade: {type(idade)}\")\n",
        "print(f\"Tipo de altura: {type(altura)}\")\n",
        "print(f\"Tipo de estudante: {type(estudante)}\")\n",
        "\n",
        "# Declare aqui suas variáveis\n"
      ],
      "metadata": {
        "id": "8g0H5BDZixkK"
      },
      "execution_count": null,
      "outputs": []
    },
    {
      "cell_type": "markdown",
      "source": [
        "### Operadores aritméticos, lógicos e de comparação\n",
        "\n",
        "Em programação, operadores são símbolos ou palavras-chave que realizam operações específicas em um ou mais operandos (valores ou variáveis). A utilização de operadores é essencial para manipular dados, realizar cálculos, comparar valores e controlar a lógica de um algoritmo.\n",
        "\n",
        "Os operadores podem ser:\n",
        "- Aritméticos: +, -, \\*, /, //, % e **;\n",
        "- Comparação: ==, !=, >, <, >= e <=;\n",
        "- Lógicos: and, or e not\n",
        "\n",
        "Veja exemplos abaixo:"
      ],
      "metadata": {
        "id": "WGnR7JHXiz-g"
      }
    },
    {
      "cell_type": "code",
      "source": [
        "# Declarando as variáveis\n",
        "a = 10\n",
        "b = 3\n",
        "\n",
        "# Trabalhando com operadores aritméticos\n",
        "print(\"\\nSoma: \", a + b)\n",
        "print(\"Subtração: \", a - b)\n",
        "print(\"Divisão: \", a / b)\n",
        "print(\"Divisão inteira: \", a // b)\n",
        "print(\"Resto: \", a % b)\n",
        "print(\"Potência: \", a**b)\n",
        "\n",
        "# Trabalhando com operadores de comparação\n",
        "print(\"\\nIgual: \", a == b)\n",
        "print(\"Diferente: \", a != b)\n",
        "print(\"Maior que: \", a > b)\n",
        "print(\"Menor que: \", a < b)\n",
        "print(\"Maior ou igual que: \", a >= b)\n",
        "print(\"Menor ou igual que: \", a <= b)\n",
        "\n",
        "# Trabalhando com operadores lógicos\n",
        "print(\"\\nConjunção: \", a and b)\n",
        "print(\"Disjunção: \", a or b)\n",
        "print(\"Negação: \", not a)"
      ],
      "metadata": {
        "id": "esT_WJ9ui0s0"
      },
      "execution_count": null,
      "outputs": []
    },
    {
      "cell_type": "markdown",
      "source": [
        "### Estruturas de controle (if, elif, else, for e while)\n",
        "\n",
        "As estruturas de controle, na programação, são blocos fundamentais que permitem controlar o fluxo de execução do algoritmo. Aqui, mostraremos as estruturas condicionais if, elif e else e as estruturas de loop for e while.\n",
        "\n",
        "#### Condicionais (if, elif, else)\n",
        "\n",
        "Este tipo de estrutura permite executar diferentes blocos com base em condições. Funcionam da seguinte maneira:\n",
        "\n",
        "- Se (if) isso, então faça isso\n",
        "- Senão se (elif, ou seja, else + if), então faça isso\n",
        "- Senão (else), então faça isso\n",
        "\n",
        "Por exemplo:"
      ],
      "metadata": {
        "id": "snIsd1Jci4-8"
      }
    },
    {
      "cell_type": "code",
      "source": [
        "consumo_energia = 350 # kWh\n",
        "\n",
        "if consumo_energia < 100:\n",
        "  tarifa = 0.5\n",
        "  print(\"Baixo consumo\")\n",
        "elif 100 <= consumo_energia < 300:\n",
        "  tarifa = 0.75\n",
        "  print(\"Consumo médio\")\n",
        "else:\n",
        "  tarifa = 1.25\n",
        "  print(\"Alto consumo\")\n",
        "\n",
        "print(f\"Tarifa aplicada: R${tarifa}/kWh\")"
      ],
      "metadata": {
        "id": "IU1L6xxJi5s7"
      },
      "execution_count": null,
      "outputs": []
    },
    {
      "cell_type": "markdown",
      "source": [
        "#### Loop for\n",
        "\n",
        "O loop for é usado para iterar sobre sequências (listas, tuplas, strings, etc) ou executar um bloco um número determinado de vezes.\n",
        "\n",
        "Por exemplo:"
      ],
      "metadata": {
        "id": "CcMy55LAi7Zw"
      }
    },
    {
      "cell_type": "code",
      "source": [
        "# Iterando sobre uma lista\n",
        "frutas = [\"Maçã\", \"Banana\", \"Manga\", \"Laranja\", \"Melancia\"]\n",
        "for fruta in frutas:\n",
        "  print(fruta)\n",
        "\n",
        "# Usando a função range(), que gera uma sequência de inteiros\n",
        "for i in range(3):\n",
        "  print(i)\n",
        "\n",
        "# Usando range() para iterar a lista com índices\n",
        "for i in range(len(frutas)):\n",
        "  print(f\"Fruta {frutas[i]}, índice {i}\")"
      ],
      "metadata": {
        "id": "zNropmr5i9n3"
      },
      "execution_count": null,
      "outputs": []
    },
    {
      "cell_type": "markdown",
      "source": [
        "#### Loop while\n",
        "\n",
        "O loop while executa um bloco enquanto uma condição for verdadeira.\n",
        "\n",
        "Por exemplo:"
      ],
      "metadata": {
        "id": "85QMfhYEjA31"
      }
    },
    {
      "cell_type": "code",
      "source": [
        "contador = 0\n",
        "while contador < 5:\n",
        "  print(contador)\n",
        "  contador += 1"
      ],
      "metadata": {
        "id": "IfcpJZC3jBnV"
      },
      "execution_count": null,
      "outputs": []
    },
    {
      "cell_type": "markdown",
      "source": [
        "#### Controle de loops (break, continue, else)\n",
        "\n",
        "Os controles de loops break, continue e else auxiliam no controle do fluxo em um loop. O `break` interrompe o loop, o `continue` pula para a próxima iteração e o `else` executa quando o loop termina normalmente (sem break).\n",
        "\n",
        "Por exemplo:"
      ],
      "metadata": {
        "id": "DljtfPvUjDYO"
      }
    },
    {
      "cell_type": "code",
      "source": [
        "for num in range(1, 10, 2): # Troque os valores do range para testar as estruturas!\n",
        "  if num == 3:\n",
        "    print(\"Pulando o número 3\")\n",
        "    continue\n",
        "  if num == 8:\n",
        "    print(\"Parando no número 8\")\n",
        "    break\n",
        "  print(num)\n",
        "else:\n",
        "  print(\"Loop completo\")"
      ],
      "metadata": {
        "id": "iLrFGYI8jF_e"
      },
      "execution_count": null,
      "outputs": []
    },
    {
      "cell_type": "markdown",
      "source": [
        "### Estruturas de dados essenciais (listas, tuplas, dicionários e conjuntos)\n",
        "\n",
        "Na programação, as estruturas de dados essenciais são usadas para armazenar e organizar informações de maneiras distintas, cada uma com suas características e finalidades específicas. Neste curso, usaremos:\n",
        "\n",
        "- Listas: são mutáveis, ordenadas e permitem elementos duplicados\n",
        "- Tuplas: são imutáveis, ordenadas e permitem elementos duplicados\n",
        "- Dicionários: são mutáveis, ordenadas e não permitem chaves duplicadas\n",
        "- Conjuntos: são mutáveis, não ordenados e não permitem elementos duplicados\n",
        "\n",
        "Por exemplo:"
      ],
      "metadata": {
        "id": "kSWx1BL0jJLj"
      }
    },
    {
      "cell_type": "code",
      "source": [
        "# Trabalhando com lista\n",
        "frutas= [\"Maçã\", \"Laranja\", \"Sapoti\"]\n",
        "frutas.append(\"Caju\") # Adicionando um item\n",
        "print(frutas[1]) # Acessando o elemento do índice 1\n",
        "\n",
        "# Trabalhando com tupla\n",
        "coordenadas = (10, 20)\n",
        "print(coordenadas[0]) # Acessando o elemento do índice 0\n",
        "\n",
        "# Trabalhando com dicionário\n",
        "pessoa = {\"Nome\": \"João\", \"Telefone\": \"(11) 11111-1111\"}\n",
        "pessoa[\"Cidade\"] = \"São Paulo\" # Adicionando nova chave-valor\n",
        "print(pessoa[\"Nome\"]) # Acessando o elemento do índice \"Nome\"\n",
        "\n",
        "# Trabalhando com conjunto\n",
        "numeros = {1, 2, 3, 3} # O elemento duplicado é removido\n",
        "numeros.add(4) # Adiciona o número 4\n",
        "print(numeros)"
      ],
      "metadata": {
        "id": "X77CKY00jLaz"
      },
      "execution_count": null,
      "outputs": []
    },
    {
      "cell_type": "markdown",
      "source": [
        "### Funções\n",
        "\n",
        "Na programação, funções são blocos de código reutilizáveis que realizam uma tarefa específica. Elas contribuem na organização do código, no evitamento à repetição, na facilitação da manutenção e em divisão de problemas complexos em partes menores.\n",
        "\n",
        "Por exemplo:"
      ],
      "metadata": {
        "id": "r3fyhjr_jNyE"
      }
    },
    {
      "cell_type": "code",
      "source": [
        "# Definindo uma função sem retorno\n",
        "def saudacao(nome):\n",
        "  print(f\"Olá, {nome}!\")\n",
        "\n",
        "# Definindo uma função com retorno\n",
        "def soma(num1, num2):\n",
        "  return num1 + num2\n",
        "\n",
        "# Definindo uma função com parâmetro opcional\n",
        "def calcular_custo(consumo_kwh, tarifa, dias=30):\n",
        "  custo_diario = consumo_kwh * tarifa\n",
        "  return custo_diario * dias\n",
        "\n",
        "# Invocando e usando as funções\n",
        "saudacao(\"Fulano\")\n",
        "print(soma(2, 3))\n",
        "custo_mensal = calcular_custo(15, 0.75)\n",
        "print(f\"Custo mensal estimado: R${custo_mensal:.2f}\")"
      ],
      "metadata": {
        "id": "doJ0RAuHjOz5"
      },
      "execution_count": null,
      "outputs": []
    },
    {
      "cell_type": "markdown",
      "source": [
        "### Gráficos com Matplotlib\n",
        "\n",
        "O Matplotlib é uma biblioteca popular de visualização de dados para a linguagem Python, usada para criar gráficos estáticos, interativos e animados.\n",
        "\n",
        "Veja um exemplo básico:"
      ],
      "metadata": {
        "id": "S1-DWqotjScx"
      }
    },
    {
      "cell_type": "code",
      "source": [
        "# Importando a biblioteca\n",
        "import matplotlib.pyplot as plt\n",
        "\n",
        "# Dados de exemplo - consumo mensal\n",
        "meses = ['Jan', 'Fev', 'Mar', 'Abr', 'Mai', 'Jun']\n",
        "consumo = [1200, 1150, 1300, 1250, 1400, 1500]\n",
        "\n",
        "# Criando gráfico de linha\n",
        "plt.figure(figsize=(10, 5))\n",
        "plt.plot(meses, consumo, marker='o', color='green', linestyle='--')\n",
        "plt.title('Consumo de Energia - Primeiro Semestre')\n",
        "plt.xlabel('Mês')\n",
        "plt.ylabel('Consumo (kWh)')\n",
        "plt.grid(True)\n",
        "plt.show()"
      ],
      "metadata": {
        "id": "WB2fk-sojUd4"
      },
      "execution_count": null,
      "outputs": []
    },
    {
      "cell_type": "markdown",
      "source": [
        "Agora veja esse outro gráfico, desta vez com barras comparativas:"
      ],
      "metadata": {
        "id": "UbceMpF6jZEb"
      }
    },
    {
      "cell_type": "code",
      "source": [
        "# Comparando fontes de energia\n",
        "fontes = ['Hidrelétrica', 'Eólica', 'Solar', 'Termelétrica']\n",
        "capacidade = [45000, 12000, 8000, 25000]  # MW\n",
        "\n",
        "plt.figure(figsize=(8, 6))\n",
        "plt.bar(fontes, capacidade, color=['blue', 'green', 'yellow', 'red'])\n",
        "plt.title('Capacidade Instalada por Fonte (MW)')\n",
        "plt.ylabel('Megawatts (MW)')\n",
        "plt.xticks(rotation=45)\n",
        "plt.show()"
      ],
      "metadata": {
        "id": "UX2LxEEZjZpH"
      },
      "execution_count": null,
      "outputs": []
    },
    {
      "cell_type": "markdown",
      "source": [
        "# Desafio 1\n",
        "\n",
        "Agora é sua vez!\n",
        "\n",
        "Acesse o desafio da aula e resolva um problema real com os conceitos e ferramentas vistos até aqui e com sua exploração das ferramentas disponíveis. Não deixe de pesquisar, estudar e testar formas de resolver o problema.\n",
        "\n",
        "PDF do desafio disponível [aqui](https://drive.google.com/file/d/1KtWOZibTdmfROaxj9UBtkpRfUrjYLXYz/view?usp=sharing)."
      ],
      "metadata": {
        "id": "Hgr6hXHzjjBx"
      }
    }
  ]
}