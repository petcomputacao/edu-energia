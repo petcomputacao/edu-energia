{
  "nbformat": 4,
  "nbformat_minor": 0,
  "metadata": {
    "colab": {
      "provenance": []
    },
    "kernelspec": {
      "name": "python3",
      "display_name": "Python 3"
    },
    "language_info": {
      "name": "python"
    }
  },
  "cells": [
    {
      "cell_type": "markdown",
      "source": [
        "# Introdução à lógica de programação, à linguagem Python e ao ambiente Google Colab"
      ],
      "metadata": {
        "id": "7Pcz_5__4RCD"
      }
    },
    {
      "cell_type": "markdown",
      "source": [
        "## Introdução ao Google Colab\n",
        "\n",
        "Boas vindas ao Google Colab!\n",
        "\n",
        "Este é o ambiente que será utilizado durante as nossas aulas. O objetivo desta breve introdução é situar os alunos que ainda não conhecem a plataforma.\n",
        "\n",
        "### O que é o Google Colab?\n",
        "\n",
        "O Google Colab é uma ferramenta que permite escrever e executar código Python, direto no navegador e de maneira mais simples, porém com acesso a recursos poderosos.\n",
        "\n",
        "### Como usar o Google Colab?\n",
        "\n",
        "Dentro do Google Colab, é possível criar e acessar um **notebook**, que é um ambiente interativo que mescla, através de blocos, textos e códigos. Por exemplo, esta aula está escrita em um notebook.\n",
        "\n",
        "Dentro dos notebooks, existem células de texto e de código. Por exemplo, esta célula é de texto, enquanto que esta outra, abaixo, é de código:"
      ],
      "metadata": {
        "id": "heip2ons4b1b"
      }
    },
    {
      "cell_type": "code",
      "source": [
        "# Este é um comentário. Abaixo, um código que imprime \"Olá, mundo!\" na tela.\n",
        "# Para executá-lo, clique nesta célula e depois pressione o botão Play à esquerda\n",
        "# do código ou use o atalho do teclado \"Command/Ctrl+Enter\".\n",
        "print(\"Olá, mundo!\")"
      ],
      "metadata": {
        "colab": {
          "base_uri": "https://localhost:8080/"
        },
        "id": "z0QLe5Ai_uzh",
        "outputId": "4708530f-b0df-4576-e300-0463a54b7955"
      },
      "execution_count": 3,
      "outputs": [
        {
          "output_type": "stream",
          "name": "stdout",
          "text": [
            "Olá, mundo!\n"
          ]
        }
      ]
    },
    {
      "cell_type": "markdown",
      "source": [
        "Para editar texto ou código (será muito útil, em breve), basta clicar na célula e começar a editar.\n",
        "\n",
        "Também é importante notar que, embora divididos por blocos, as variáveis definidas em uma célula podem ser usadas nas células seguintes.\n",
        "\n",
        "A grande vantagem do Google Colab é permitir combinar código executável e rich text em um único documento, além de permitir integração com outros serviços, como o Google Drive e o GitHub.\n",
        "\n",
        "### Mais sobre o Google Colab\n",
        "\n",
        "Para conhecer mais sobre a ferramenta, acesse o notebook de introdução do próprio Colab:\n",
        "\n",
        "[Conheça o Colab](https://colab.research.google.com/)\n",
        "\n",
        "Também existe muito material disponível para pesquisar e aprender a respeito."
      ],
      "metadata": {
        "id": "fcSxEjuxAVy8"
      }
    },
    {
      "cell_type": "markdown",
      "source": [
        "## Introdução à lógica de programação\n",
        "\n",
        "O objetivo desta seção é apresentar alguns conceitos básicos sobre lógica de programação, de modo a permitir um bom aproveitamento do curso e, também, propiciar maior autonomia para que os alunos aprendam por conta própria.\n",
        "\n",
        "[...]"
      ],
      "metadata": {
        "id": "Zto2qiVI78oG"
      }
    },
    {
      "cell_type": "markdown",
      "source": [
        "## Introdução à linguagem Python\n",
        "\n",
        "[...]"
      ],
      "metadata": {
        "id": "YAYcWxaR8_4d"
      }
    }
  ]
}