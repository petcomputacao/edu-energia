{
  "nbformat": 4,
  "nbformat_minor": 0,
  "metadata": {
    "colab": {
      "provenance": []
    },
    "kernelspec": {
      "name": "python3",
      "display_name": "Python 3"
    },
    "language_info": {
      "name": "python"
    }
  },
  "cells": [
    {
      "cell_type": "markdown",
      "source": [
        "# Unidade 2: introdução à eletricidade\n",
        "\n",
        "O objetivo desta unidade é apresentar alguns conceitos básicos necessários para o tratamento dos dados ofertados pelo curso."
      ],
      "metadata": {
        "id": "K-7mMi2Uhpn9"
      }
    },
    {
      "cell_type": "markdown",
      "source": [
        "## Configurações iniciais"
      ],
      "metadata": {
        "id": "Uw_3blaOUm8t"
      }
    },
    {
      "cell_type": "code",
      "source": [
        "import numpy as np\n",
        "import matplotlib.pyplot as plt"
      ],
      "metadata": {
        "id": "9Tey6A5nUkoe"
      },
      "execution_count": 10,
      "outputs": []
    },
    {
      "cell_type": "markdown",
      "source": [
        "## Grandezas fundamentais em eletricidade\n",
        "\n",
        "São grandezas fundamentais em eletricidade:\n",
        "\n",
        "- Tensão (V): diferença de potencial (medida em Volts);\n",
        "- Corrente (I): fluxo de elétrons (Amperes);\n",
        "- Resistência (R): oposição à corrente (Ohms);\n",
        "- Potência (P): energia por tempo (Watts).\n",
        "\n",
        "Veja aplicação simples abaixo:"
      ],
      "metadata": {
        "id": "auwKOwsqUgJh"
      }
    },
    {
      "cell_type": "code",
      "source": [
        "V = 220  # Tensão em Volts\n",
        "I = 10   # Corrente em Amperes\n",
        "R = V / I  # Lei de Ohm\n",
        "P = V * I  # Potência em Watts\n",
        "\n",
        "print(f\"Resistência: {R:.2f} Ω\")\n",
        "print(f\"Potência: {P:.2f} W\")"
      ],
      "metadata": {
        "colab": {
          "base_uri": "https://localhost:8080/"
        },
        "id": "yz8cuTAuRQLK",
        "outputId": "1c8f40ec-877d-49a0-d1d0-e61238f74475"
      },
      "execution_count": 11,
      "outputs": [
        {
          "output_type": "stream",
          "name": "stdout",
          "text": [
            "Resistência: 22.00 Ω\n",
            "Potência: 2200.00 W\n"
          ]
        }
      ]
    },
    {
      "cell_type": "markdown",
      "source": [
        "## Potência elétrica (aparente, ativa e reativa)\n",
        "\n",
        "Fórmulas:\n",
        "\n",
        "- Potência aparente (S): diz respeito a potência total que uma fonte pode fornecer. Ou seja, é a soma vetorial das potências ativa e reativa. É obtida através da operação S = V × I (VA), onde VA é a unidade de medida volt àmpere;\n",
        "- Potência ativa (P): é a potência que realiza trabalho útil em uma carga. É obtida através da operação V × I × cos(ϕ) (W), onde W é a unidade de medida watt.\n",
        "- Potência reativa (Q): representa a parte aplicada às cargas capacitivas e indutivas e não realiza trabalho efetivo. É obtida através da operação Q = V × I × sin(ϕ) (VAr), onde VAr é a unidade de medida volt ampère reativo.\n",
        "\n",
        "Veja aplicação simples abaixo:"
      ],
      "metadata": {
        "id": "RKlbfZ1rXjw4"
      }
    },
    {
      "cell_type": "code",
      "source": [
        "phi = np.radians(30)  # Ângulo de defasagem (30°)\n",
        "S = V * I\n",
        "P = S * np.cos(phi)\n",
        "Q = S * np.sin(phi)\n",
        "\n",
        "print(f\"Potência Aparente: {S:.2f} VA\")\n",
        "print(f\"Potência Ativa: {P:.2f} W\")\n",
        "print(f\"Potência Reativa: {Q:.2f} VAr\")"
      ],
      "metadata": {
        "colab": {
          "base_uri": "https://localhost:8080/"
        },
        "id": "8a-MKEk9ULGt",
        "outputId": "635a9129-c79d-4d2b-b5c9-d598f3f2b23f"
      },
      "execution_count": 12,
      "outputs": [
        {
          "output_type": "stream",
          "name": "stdout",
          "text": [
            "Potência Aparente: 2200.00 VA\n",
            "Potência Ativa: 1905.26 W\n",
            "Potência Reativa: 1100.00 VAr\n"
          ]
        }
      ]
    },
    {
      "cell_type": "markdown",
      "source": [
        "## Fator de potência\n",
        "\n",
        "O fator de potência diz respeito à relação entre a energia entregue na instalação e a energia que é convertida em trabalho. O cálculo é realizado por FP = P/S, onde o ideal é o valor estar mais próximo de 1, indicando uma baixa energia reativa.\n",
        "\n",
        "Veja aplicação simples abaixo:"
      ],
      "metadata": {
        "id": "PMRvP-MekUoe"
      }
    },
    {
      "cell_type": "code",
      "source": [
        "FP = P / S\n",
        "print(f\"Fator de Potência: {FP:.2f}\")"
      ],
      "metadata": {
        "colab": {
          "base_uri": "https://localhost:8080/"
        },
        "id": "b3lXqasJoNjk",
        "outputId": "7f432e6d-460f-487c-c0a3-b21004499a0f"
      },
      "execution_count": 13,
      "outputs": [
        {
          "output_type": "stream",
          "name": "stdout",
          "text": [
            "Fator de Potência: 0.87\n"
          ]
        }
      ]
    },
    {
      "cell_type": "markdown",
      "source": [
        "## Tensão elétrica e corrente elétrica\n",
        "\n",
        "A tensão elétrica entre dois pontos de um determinado circuito é o trabalho necessário para mover uma carga qualquer entre os dois pontos, dividido pela carga.\n",
        "\n",
        "A corrente elétrica é a taxa de variação no tempo da quantidade de carga medida em ampères.\n",
        "\n",
        "Veja aplicação simples abaixo:"
      ],
      "metadata": {
        "id": "yU9h2K0TkXF2"
      }
    },
    {
      "cell_type": "code",
      "source": [
        "t = np.linspace(0, 0.02, 1000)  # 1 ciclo de 50 Hz\n",
        "f = 50  # Frequência (Hz)\n",
        "V = 220 * np.sqrt(2) * np.sin(2 * np.pi * f * t)\n",
        "I = 10 * np.sqrt(2) * np.sin(2 * np.pi * f * t - phi)\n",
        "\n",
        "plt.figure(figsize=(10, 4))\n",
        "plt.plot(t, V, label='Tensão (V)')\n",
        "plt.plot(t, I, label='Corrente (I)')\n",
        "plt.title(\"Sinais de Tensão e Corrente Alternadas\")\n",
        "plt.xlabel(\"Tempo (s)\")\n",
        "plt.ylabel(\"Amplitude\")\n",
        "plt.legend()\n",
        "plt.grid(True)\n",
        "plt.show()"
      ],
      "metadata": {
        "colab": {
          "base_uri": "https://localhost:8080/",
          "height": 410
        },
        "id": "QLuJM0eFqtI9",
        "outputId": "8ab38da3-2f8d-4b45-df9c-f0cff019ce5b"
      },
      "execution_count": 15,
      "outputs": [
        {
          "output_type": "display_data",
          "data": {
            "text/plain": [
              "<Figure size 1000x400 with 1 Axes>"
            ],
            "image/png": "[encoded data removed]"
          },
          "metadata": {}
        }
      ]
    },
    {
      "cell_type": "markdown",
      "source": [
        "## Eficiência energética\n",
        "\n",
        "A eficiência energética busca otimizar o uso de energia, garantindo melhores resultados com menor consumo. Ela é medida pela relação entre a energia utilizada e a energia disponível para uma atividade.\n",
        "\n",
        "As energias renováveis, como a solar térmica, são fundamentais para reduzir o consumo de combustíveis fósseis. No entanto, mesmo fontes limpas dependem de um consumo racional para serem eficientes. Dessa forma, juntas, eficiência energética e energias renováveis formam a base de uma política energética sustentável, equilibrando produção limpa e uso consciente."
      ],
      "metadata": {
        "id": "QuV_L8Wrkfjt"
      }
    },
    {
      "cell_type": "markdown",
      "source": [
        "## Modalidades tarifárias e indicadores úteis de consumo de energia elétrica\n",
        "\n",
        "O gerenciamento de energia é essencial para otimizar custos e eficiência no consumo elétrico. Portanto, abaixo veremos alguns conceitos relacionados às tarifas de energia, modalidades de contratação e indicadores de desempenho energético.\n",
        "\n",
        "### Grupos tarifários\n",
        "\n",
        "Existem duas categorias principais de clientes:\n",
        "\n",
        "- Grupo A\n",
        "  - Clientes de alta (AT) e média (MT) tensão;\n",
        "  - Subdivididos de acordo com o nível de tensão;\n",
        "  - Tarifação baseada em demanda contratada e consumo.\n",
        "- Grupo B\n",
        "  - Clientes de baixa tensão (BT);\n",
        "  - Inclui residências, pequenos comércios e indústrias de menor porte;\n",
        "  - Tarifação baseada em consumo.\n",
        "\n",
        "### Conceitos fundamentais\n",
        "\n",
        "- Consumo (Wh): quantidade de energia elétrica utilizada em um período, medida em watt-hora (Wh);\n",
        "- Demanda (W): potência média solicitada em um intervalo de tempo, medida em watt (W).\n",
        "- Horários de consumo:\n",
        "  - Horário de ponta (HP): período de maior demanda no sistema elétrico;\n",
        "  - Horário fora de ponta (HFP): demais horários, com menor custo de energia.\n",
        "- Períodos tarifários:\n",
        "  - Período seco (PS): maior custo de energia;\n",
        "  - Período úmido (PU): menor custo de energia.\n",
        "\n",
        "### Modalidades de contratação\n",
        "\n",
        "#### Modalidade convencional\n",
        "\n",
        "- Tarifa única, sem diferenciação por horário ou período;\n",
        "- Indicada para consumidores com perfil de consumo estável.\n",
        "\n",
        "#### Modalidade horo-sazonal\n",
        "\n",
        "- Tarifas variam conforme horário (HP/HFP) e período (PS/PU);\n",
        "- Vantagens: consumo mais barato em HFP e PU e ideal para consumidores que podem deslocar consumo para horários mais econômicos.\n",
        "\n",
        "### Tarifas de ultrapassagem\n",
        "\n",
        "- Aplicada quando a demanda medida excede a demanda contratada;\n",
        "- Cobrança adicional sobre a diferença entre demanda registrada e contratada.\n",
        "\n",
        "### Indicadores de desempenho energético\n",
        "\n",
        "#### Preço médio (R$/kWh)\n",
        "\n",
        "É calculado como a divisão entre o valor da fatura e o consumo total. É útil para comparar custos entre períodos ou modalidades.\n",
        "\n",
        "#### Fator de carga\n",
        "\n",
        "O fator de carga é a relação entre consumo total e demanda máxima, da seguinte forma:\n",
        "\n",
        "Fator de carga = consumo total (kWh) / (demanda (kW) x tempo (h))\n",
        "\n",
        "Valores próximos de 1 indicam bom aproveitamento da capacidade contratada.\n",
        "\n",
        "#### Fator de potência\n",
        "\n",
        "Mede a eficiência no uso da energia. É calculado pela divisão entre potência ativa (kW) e potência aparente (kVA).\n",
        "\n",
        "O FP < 0,92 implica em cobrança adicional (reativo excedente)."
      ],
      "metadata": {
        "id": "HaC5Vlj9kh18"
      }
    },
    {
      "cell_type": "markdown",
      "source": [
        "## Estratégias de otimização\n",
        "\n",
        "Redução de custos:\n",
        "\n",
        "- Deslocar consumo para HFP e PU;\n",
        "- Monitorar demanda para evitar ultrapassagens.\n",
        "\n",
        "Melhoria na eficiência:\n",
        "\n",
        "- Correção do fator de potência;\n",
        "- Gestão ativa do fator de carga."
      ],
      "metadata": {
        "id": "CoMUAuqty6FP"
      }
    },
    {
      "cell_type": "markdown",
      "source": [
        "# Desafio 2\n",
        "\n",
        "Agora é com você!\n",
        "\n",
        "Acesse o desafio da aula e resolva um problema real com os conceitos e ferramentas vistos até aqui e com sua exploração das ferramentas disponíveis. Não deixe de pesquisar, estudar e testar formas de resolver o problema.\n",
        "\n",
        "PDF do desafio disponível [aqui](https://drive.google.com/file/d/1n3XLXgbCKhRJiYQVHgasdxULHTccWaH4/view?usp=sharing)."
      ],
      "metadata": {
        "id": "kGHHYkGk0NRc"
      }
    }
  ]
}